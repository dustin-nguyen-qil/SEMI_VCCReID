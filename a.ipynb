{
 "cells": [
  {
   "cell_type": "code",
   "execution_count": 1,
   "metadata": {},
   "outputs": [],
   "source": [
    "import pickle\n",
    "import numpy as np\n",
    "import matplotlib.pyplot as plt\n",
    "from PIL import Image"
   ]
  },
  {
   "cell_type": "code",
   "execution_count": 1,
   "metadata": {},
   "outputs": [
    {
     "name": "stderr",
     "output_type": "stream",
     "text": [
      "/home/dustin/anaconda3/envs/reid/lib/python3.8/site-packages/tqdm/auto.py:21: TqdmWarning: IProgress not found. Please update jupyter and ipywidgets. See https://ipywidgets.readthedocs.io/en/stable/user_install.html\n",
      "  from .autonotebook import tqdm as notebook_tqdm\n"
     ]
    }
   ],
   "source": [
    "import torch \n",
    "from models.tsm.asa import ASA\n",
    "\n",
    "asa = ASA(\n",
    "    rnn_size=1024, \n",
    "    input_size=10, \n",
    "    num_layers=2, \n",
    "    output_size=10, \n",
    "    feature_pool='attention', \n",
    "    attention_size=1024, \n",
    "    attention_dropout=0.2, \n",
    "    attention_layers=3)\n",
    "\n"
   ]
  },
  {
   "cell_type": "code",
   "execution_count": 6,
   "metadata": {},
   "outputs": [
    {
     "data": {
      "text/plain": [
       "torch.Size([8, 10])"
      ]
     },
     "execution_count": 6,
     "metadata": {},
     "output_type": "execute_result"
    }
   ],
   "source": [
    "a = torch.rand((16, 8, 10))\n",
    "torch.mean(a, dim=0).shape"
   ]
  },
  {
   "cell_type": "code",
   "execution_count": 10,
   "metadata": {},
   "outputs": [],
   "source": [
    "datapath = 'data/ccvid/gallery.pkl'\n",
    "\n",
    "with open(datapath, 'rb') as f:\n",
    "    content = pickle.load(f)"
   ]
  },
  {
   "cell_type": "code",
   "execution_count": 71,
   "metadata": {},
   "outputs": [
    {
     "data": {
      "text/plain": [
       "25"
      ]
     },
     "execution_count": 71,
     "metadata": {},
     "output_type": "execute_result"
    }
   ],
   "source": [
    "idx = 1\n",
    "len(content['data'][idx]['img_paths'])"
   ]
  },
  {
   "cell_type": "code",
   "execution_count": 15,
   "metadata": {},
   "outputs": [],
   "source": [
    "pid_container = set()\n",
    "for item in content['data']:\n",
    "    pid_container.add(item['p_id'])\n",
    "\n",
    "pid_container = sorted(pid_container)\n",
    "pid2label = {pid:label for label, pid in enumerate(pid_container)}\n",
    "\n",
    "for item in content['data']:\n",
    "    cur_pid = item['p_id']\n",
    "    new_pid = pid2label[cur_pid]\n",
    "    item['p_id'] = new_pid\n"
   ]
  },
  {
   "cell_type": "code",
   "execution_count": 19,
   "metadata": {},
   "outputs": [],
   "source": [
    "with open(datapath, 'wb') as f:\n",
    "    pickle.dump(content, f)"
   ]
  },
  {
   "cell_type": "code",
   "execution_count": 22,
   "metadata": {},
   "outputs": [],
   "source": [
    "for item in content['data']:\n",
    "    del item['tracklet_id']"
   ]
  },
  {
   "cell_type": "code",
   "execution_count": 23,
   "metadata": {},
   "outputs": [],
   "source": [
    "with open(datapath, 'wb') as f:\n",
    "    pickle.dump(content, f)"
   ]
  },
  {
   "cell_type": "code",
   "execution_count": 30,
   "metadata": {},
   "outputs": [
    {
     "name": "stdout",
     "output_type": "stream",
     "text": [
      "done\n"
     ]
    }
   ],
   "source": [
    "import pickle, os\n",
    "import os.path as osp\n",
    "\n",
    "old_path = '/media/dustin/DATA/Research/Video-based ReID'\n",
    "new_path = '/project/shah/dustin/VideoDatasets'\n",
    "\n",
    "# for dataset in os.listdir('data/vccr'):\n",
    "#     dataset_path = osp.join('data', dataset)\n",
    "# for file in os.listdir('data/ccvid'):\n",
    "#     mode = file.split('.')[0]\n",
    "file_path = 'data/ccvid/train.pkl'\n",
    "with open(file_path, 'rb') as f:\n",
    "    content = pickle.load(f)\n",
    "paths = []\n",
    "for item in content['data']:\n",
    "    for i in item['img_paths']:\n",
    "        path = i[0]\n",
    "        paths.append(path)\n",
    "    item['img_paths'] = paths\n",
    "# new_file_path = osp.join('data/ccvid', 'train_.pkl')\n",
    "with open(file_path, 'wb') as f:\n",
    "    pickle.dump(content, f)\n",
    "    \n",
    "print('done')"
   ]
  }
 ],
 "metadata": {
  "kernelspec": {
   "display_name": "reid",
   "language": "python",
   "name": "python3"
  },
  "language_info": {
   "codemirror_mode": {
    "name": "ipython",
    "version": 3
   },
   "file_extension": ".py",
   "mimetype": "text/x-python",
   "name": "python",
   "nbconvert_exporter": "python",
   "pygments_lexer": "ipython3",
   "version": "3.8.16"
  },
  "orig_nbformat": 4
 },
 "nbformat": 4,
 "nbformat_minor": 2
}
