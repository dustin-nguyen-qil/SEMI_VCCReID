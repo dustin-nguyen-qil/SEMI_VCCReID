{
 "cells": [
  {
   "cell_type": "code",
   "execution_count": 10,
   "metadata": {},
   "outputs": [],
   "source": [
    "import pickle\n",
    "import numpy as np"
   ]
  },
  {
   "cell_type": "code",
   "execution_count": 6,
   "metadata": {},
   "outputs": [],
   "source": [
    "datapath = 'data/ccvid/train.pkl'\n",
    "\n",
    "with open(datapath, 'rb') as f:\n",
    "    content = pickle.load(f)"
   ]
  },
  {
   "cell_type": "code",
   "execution_count": 15,
   "metadata": {},
   "outputs": [],
   "source": [
    "pid_container = set()\n",
    "for item in content['data']:\n",
    "    pid_container.add(item['p_id'])\n",
    "\n",
    "pid_container = sorted(pid_container)\n",
    "pid2label = {pid:label for label, pid in enumerate(pid_container)}\n",
    "\n",
    "for item in content['data']:\n",
    "    cur_pid = item['p_id']\n",
    "    new_pid = pid2label[cur_pid]\n",
    "    item['p_id'] = new_pid\n"
   ]
  },
  {
   "cell_type": "code",
   "execution_count": 19,
   "metadata": {},
   "outputs": [],
   "source": [
    "with open(datapath, 'wb') as f:\n",
    "    pickle.dump(content, f)"
   ]
  },
  {
   "cell_type": "code",
   "execution_count": 22,
   "metadata": {},
   "outputs": [],
   "source": [
    "for item in content['data']:\n",
    "    del item['tracklet_id']"
   ]
  },
  {
   "cell_type": "code",
   "execution_count": 23,
   "metadata": {},
   "outputs": [],
   "source": [
    "with open(datapath, 'wb') as f:\n",
    "    pickle.dump(content, f)"
   ]
  },
  {
   "cell_type": "code",
   "execution_count": 30,
   "metadata": {},
   "outputs": [
    {
     "name": "stdout",
     "output_type": "stream",
     "text": [
      "done\n"
     ]
    }
   ],
   "source": [
    "import pickle, os\n",
    "import os.path as osp\n",
    "\n",
    "old_path = '/media/dustin/DATA/Research/Video-based ReID'\n",
    "new_path = '/project/shah/dustin/VideoDatasets'\n",
    "\n",
    "# for dataset in os.listdir('data/vccr'):\n",
    "#     dataset_path = osp.join('data', dataset)\n",
    "# for file in os.listdir('data/ccvid'):\n",
    "#     mode = file.split('.')[0]\n",
    "file_path = 'data/ccvid/train.pkl'\n",
    "with open(file_path, 'rb') as f:\n",
    "    content = pickle.load(f)\n",
    "paths = []\n",
    "for item in content['data']:\n",
    "    for i in item['img_paths']:\n",
    "        path = i[0]\n",
    "        paths.append(path)\n",
    "    item['img_paths'] = paths\n",
    "# new_file_path = osp.join('data/ccvid', 'train_.pkl')\n",
    "with open(file_path, 'wb') as f:\n",
    "    pickle.dump(content, f)\n",
    "    \n",
    "print('done')"
   ]
  },
  {
   "cell_type": "code",
   "execution_count": 1,
   "metadata": {},
   "outputs": [],
   "source": [
    "import glob\n",
    "import numpy as np\n",
    "import os.path as osp\n",
    "\n",
    "root = \"/media/dustin/DATA/Research/Video-based ReID/CCVID\"\n",
    "\n",
    "def process_data(data_path, relabel=False, clothes2label=None):\n",
    "    tracklet_path_list = []\n",
    "    pid_container = set()\n",
    "    clothes_container = set()\n",
    "    with open(data_path, 'r') as f:\n",
    "        for line in f:\n",
    "            new_line = line.rstrip()\n",
    "            tracklet_path, pid, clothes_label = new_line.split()\n",
    "            tracklet_path_list.append((tracklet_path, pid, clothes_label))\n",
    "            clothes = '{}_{}'.format(pid, clothes_label)\n",
    "            pid_container.add(pid)\n",
    "            clothes_container.add(clothes)\n",
    "    pid_container = sorted(pid_container)\n",
    "    clothes_container = sorted(clothes_container)\n",
    "    pid2label = {pid:label for label, pid in enumerate(pid_container)}\n",
    "    if clothes2label is None:\n",
    "        clothes2label = {clothes:label for label, clothes in enumerate(clothes_container)}\n",
    "\n",
    "    num_tracklets = len(tracklet_path_list)\n",
    "    num_pids = len(pid_container)\n",
    "    num_clothes = len(clothes_container)\n",
    "\n",
    "    tracklets = []\n",
    "    num_imgs_per_tracklet = []\n",
    "    pid2clothes = np.zeros((num_pids, len(clothes2label)))\n",
    "\n",
    "    for tracklet_path, pid, clothes_label in tracklet_path_list:\n",
    "        img_paths = glob.glob(osp.join(root, tracklet_path, '*')) \n",
    "        img_paths.sort()\n",
    "\n",
    "        clothes = '{}_{}'.format(pid, clothes_label)\n",
    "        clothes_id = clothes2label[clothes]\n",
    "        pid2clothes[pid2label[pid], clothes_id] = 1\n",
    "        if relabel:\n",
    "            pid = pid2label[pid]\n",
    "        else:\n",
    "            pid = int(pid)\n",
    "        session = tracklet_path.split('/')[0]\n",
    "        cam = tracklet_path.split('_')[1]\n",
    "        if session == 'session3':\n",
    "            camid = int(cam) + 12\n",
    "        else:\n",
    "            camid = int(cam)\n",
    "\n",
    "        num_imgs_per_tracklet.append(len(img_paths))\n",
    "        tracklets.append((img_paths, pid, camid, clothes_id))\n",
    "\n",
    "    num_tracklets = len(tracklets)\n",
    "\n",
    "    return tracklets, num_tracklets, num_pids, num_imgs_per_tracklet, num_clothes, pid2clothes, clothes2label\n",
    "\n",
    "def clothes2label_test(query_path, gallery_path):\n",
    "    pid_container = set()\n",
    "    clothes_container = set()\n",
    "    with open(query_path, 'r') as f:\n",
    "        for line in f:\n",
    "            new_line = line.rstrip()\n",
    "            tracklet_path, pid, clothes_label = new_line.split()\n",
    "            clothes = '{}_{}'.format(pid, clothes_label)\n",
    "            pid_container.add(pid)\n",
    "            clothes_container.add(clothes)\n",
    "    with open(gallery_path, 'r') as f:\n",
    "        for line in f:\n",
    "            new_line = line.rstrip()\n",
    "            tracklet_path, pid, clothes_label = new_line.split()\n",
    "            clothes = '{}_{}'.format(pid, clothes_label)\n",
    "            pid_container.add(pid)\n",
    "            clothes_container.add(clothes)\n",
    "    pid_container = sorted(pid_container)\n",
    "    clothes_container = sorted(clothes_container)\n",
    "    pid2label = {pid:label for label, pid in enumerate(pid_container)}\n",
    "    clothes2label = {clothes:label for label, clothes in enumerate(clothes_container)}\n",
    "\n",
    "    return clothes2label"
   ]
  },
  {
   "cell_type": "code",
   "execution_count": 2,
   "metadata": {},
   "outputs": [],
   "source": [
    "query_path = \"/media/dustin/DATA/Research/Video-based ReID/CCVID/query.txt\"\n",
    "gallery_path = \"/media/dustin/DATA/Research/Video-based ReID/CCVID/gallery.txt\"\n",
    "train_path = \"/media/dustin/DATA/Research/Video-based ReID/CCVID/train.txt\"\n",
    "\n",
    "# clothes2label = clothes2label_test(query_path, gallery_path)\n",
    "\n",
    "# query, num_query_tracklets, num_query_pids, num_query_imgs, num_query_clothes, _, _ = \\\n",
    "#     process_data(query_path, relabel=False, clothes2label=clothes2label)\n",
    "\n",
    "# gallery, num_gallery_tracklets, num_gallery_pids, num_gallery_imgs, num_gallery_clothes, _, _ = \\\n",
    "#     process_data(gallery_path, relabel=False, clothes2label=clothes2label)\n",
    "train, num_train_tracklets, num_train_pids, num_train_imgs, num_train_clothes, pid2clothes, _ = \\\n",
    "    process_data(train_path, relabel=True)  "
   ]
  },
  {
   "cell_type": "code",
   "execution_count": 16,
   "metadata": {},
   "outputs": [],
   "source": [
    "query_set = []\n",
    "for item in query:\n",
    "#img_paths, pid, camid, clothes_id\n",
    "    query_set.append({\n",
    "        'img_paths': item[0],\n",
    "        'p_id': item[1],\n",
    "        'cam_id': item[2],\n",
    "        'clothes_id': item[3],\n",
    "    })\n",
    "gallery_set = []\n",
    "for item in gallery:\n",
    "#img_paths, pid, camid, clothes_id\n",
    "    gallery_set.append({\n",
    "        'img_paths': item[0],\n",
    "        'p_id': item[1],\n",
    "        'cam_id': item[2],\n",
    "        'clothes_id': item[3],\n",
    "    })"
   ]
  },
  {
   "cell_type": "code",
   "execution_count": 19,
   "metadata": {},
   "outputs": [],
   "source": [
    "gallery_content = {\n",
    "    'data': gallery_set,\n",
    "    'num_clothes': num_gallery_clothes,\n",
    "    'num_pids': num_gallery_pids\n",
    "}\n",
    "query_content = {\n",
    "    'data': query_set,\n",
    "    'num_clothes': num_query_clothes,\n",
    "    'num_pids': num_query_pids\n",
    "}"
   ]
  },
  {
   "cell_type": "code",
   "execution_count": 20,
   "metadata": {},
   "outputs": [],
   "source": [
    "with open('data/ccvid/query.pkl', 'wb') as f:\n",
    "    pickle.dump(query_content, f)\n",
    "with open('data/ccvid/gallery.pkl', 'wb') as f:\n",
    "    pickle.dump(gallery_content, f)"
   ]
  },
  {
   "cell_type": "code",
   "execution_count": 13,
   "metadata": {},
   "outputs": [],
   "source": [
    "import torch\n",
    "model_path = 'work_space/save/ccvid_150_16_0.00035.pth'\n",
    "weights = torch.load(model_path)\n"
   ]
  },
  {
   "cell_type": "code",
   "execution_count": 14,
   "metadata": {},
   "outputs": [
    {
     "ename": "AttributeError",
     "evalue": "'collections.OrderedDict' object has no attribute 'cuda'",
     "output_type": "error",
     "traceback": [
      "\u001b[0;31m---------------------------------------------------------------------------\u001b[0m",
      "\u001b[0;31mAttributeError\u001b[0m                            Traceback (most recent call last)",
      "\u001b[1;32m/home/dustin/Documents/Research/P002 - 3D ReID/Code/Video-based-Cloth-Changing-ReID-Baseline/a.ipynb Cell 14\u001b[0m in \u001b[0;36m<cell line: 1>\u001b[0;34m()\u001b[0m\n\u001b[0;32m----> <a href='vscode-notebook-cell://ssh-remote%2B172.23.42.54/home/dustin/Documents/Research/P002%20-%203D%20ReID/Code/Video-based-Cloth-Changing-ReID-Baseline/a.ipynb#X24sdnNjb2RlLXJlbW90ZQ%3D%3D?line=0'>1</a>\u001b[0m weights\u001b[39m.\u001b[39;49mcuda()\n",
      "\u001b[0;31mAttributeError\u001b[0m: 'collections.OrderedDict' object has no attribute 'cuda'"
     ]
    }
   ],
   "source": [
    "weights.cuda()"
   ]
  },
  {
   "cell_type": "code",
   "execution_count": 12,
   "metadata": {},
   "outputs": [
    {
     "data": {
      "text/plain": [
       "collections.OrderedDict"
      ]
     },
     "execution_count": 12,
     "metadata": {},
     "output_type": "execute_result"
    }
   ],
   "source": [
    "type(weights)"
   ]
  }
 ],
 "metadata": {
  "kernelspec": {
   "display_name": "reid",
   "language": "python",
   "name": "python3"
  },
  "language_info": {
   "codemirror_mode": {
    "name": "ipython",
    "version": 3
   },
   "file_extension": ".py",
   "mimetype": "text/x-python",
   "name": "python",
   "nbconvert_exporter": "python",
   "pygments_lexer": "ipython3",
   "version": "3.8.16"
  },
  "orig_nbformat": 4
 },
 "nbformat": 4,
 "nbformat_minor": 2
}
