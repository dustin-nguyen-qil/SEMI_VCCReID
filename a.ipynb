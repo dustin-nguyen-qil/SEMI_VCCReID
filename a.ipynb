{
 "cells": [
  {
   "cell_type": "code",
   "execution_count": 12,
   "metadata": {},
   "outputs": [],
   "source": [
    "import pickle"
   ]
  },
  {
   "cell_type": "code",
   "execution_count": 23,
   "metadata": {},
   "outputs": [],
   "source": [
    "datapath = 'data/ccvid/query.pkl'\n",
    "\n",
    "with open(datapath, 'rb') as f:\n",
    "    content = pickle.load(f)"
   ]
  },
  {
   "cell_type": "code",
   "execution_count": 24,
   "metadata": {},
   "outputs": [
    {
     "data": {
      "text/plain": [
       "['img_paths', 'p_id', 'cam_id', 'clothes_id']"
      ]
     },
     "execution_count": 24,
     "metadata": {},
     "output_type": "execute_result"
    }
   ],
   "source": [
    "list(content['data'][0].keys())"
   ]
  },
  {
   "cell_type": "code",
   "execution_count": 22,
   "metadata": {},
   "outputs": [],
   "source": [
    "for item in content['data']:\n",
    "    del item['tracklet_id']"
   ]
  },
  {
   "cell_type": "code",
   "execution_count": 23,
   "metadata": {},
   "outputs": [],
   "source": [
    "with open(datapath, 'wb') as f:\n",
    "    pickle.dump(content, f)"
   ]
  },
  {
   "cell_type": "code",
   "execution_count": 30,
   "metadata": {},
   "outputs": [
    {
     "name": "stdout",
     "output_type": "stream",
     "text": [
      "done\n"
     ]
    }
   ],
   "source": [
    "import pickle, os\n",
    "import os.path as osp\n",
    "\n",
    "old_path = '/media/dustin/DATA/Research/Video-based ReID'\n",
    "new_path = '/project/shah/dustin/VideoDatasets'\n",
    "\n",
    "# for dataset in os.listdir('data/vccr'):\n",
    "#     dataset_path = osp.join('data', dataset)\n",
    "# for file in os.listdir('data/ccvid'):\n",
    "#     mode = file.split('.')[0]\n",
    "file_path = 'data/ccvid/train.pkl'\n",
    "with open(file_path, 'rb') as f:\n",
    "    content = pickle.load(f)\n",
    "paths = []\n",
    "for item in content['data']:\n",
    "    for i in item['img_paths']:\n",
    "        path = i[0]\n",
    "        paths.append(path)\n",
    "    item['img_paths'] = paths\n",
    "# new_file_path = osp.join('data/ccvid', 'train_.pkl')\n",
    "with open(file_path, 'wb') as f:\n",
    "    pickle.dump(content, f)\n",
    "    \n",
    "print('done')"
   ]
  },
  {
   "cell_type": "code",
   "execution_count": 6,
   "metadata": {},
   "outputs": [],
   "source": [
    "import glob\n",
    "import numpy as np\n",
    "import os.path as osp\n",
    "\n",
    "root = \"/media/dustin/DATA/Research/Video-based ReID/CCVID\"\n",
    "\n",
    "def process_data(data_path, relabel=False, clothes2label=None):\n",
    "    tracklet_path_list = []\n",
    "    pid_container = set()\n",
    "    clothes_container = set()\n",
    "    with open(data_path, 'r') as f:\n",
    "        for line in f:\n",
    "            new_line = line.rstrip()\n",
    "            tracklet_path, pid, clothes_label = new_line.split()\n",
    "            tracklet_path_list.append((tracklet_path, pid, clothes_label))\n",
    "            clothes = '{}_{}'.format(pid, clothes_label)\n",
    "            pid_container.add(pid)\n",
    "            clothes_container.add(clothes)\n",
    "    pid_container = sorted(pid_container)\n",
    "    clothes_container = sorted(clothes_container)\n",
    "    pid2label = {pid:label for label, pid in enumerate(pid_container)}\n",
    "    if clothes2label is None:\n",
    "        clothes2label = {clothes:label for label, clothes in enumerate(clothes_container)}\n",
    "\n",
    "    num_tracklets = len(tracklet_path_list)\n",
    "    num_pids = len(pid_container)\n",
    "    num_clothes = len(clothes_container)\n",
    "\n",
    "    tracklets = []\n",
    "    num_imgs_per_tracklet = []\n",
    "    pid2clothes = np.zeros((num_pids, len(clothes2label)))\n",
    "\n",
    "    for tracklet_path, pid, clothes_label in tracklet_path_list:\n",
    "        img_paths = glob.glob(osp.join(root, tracklet_path, '*')) \n",
    "        img_paths.sort()\n",
    "\n",
    "        clothes = '{}_{}'.format(pid, clothes_label)\n",
    "        clothes_id = clothes2label[clothes]\n",
    "        pid2clothes[pid2label[pid], clothes_id] = 1\n",
    "        if relabel:\n",
    "            pid = pid2label[pid]\n",
    "        else:\n",
    "            pid = int(pid)\n",
    "        session = tracklet_path.split('/')[0]\n",
    "        cam = tracklet_path.split('_')[1]\n",
    "        if session == 'session3':\n",
    "            camid = int(cam) + 12\n",
    "        else:\n",
    "            camid = int(cam)\n",
    "\n",
    "        num_imgs_per_tracklet.append(len(img_paths))\n",
    "        tracklets.append((img_paths, pid, camid, clothes_id))\n",
    "\n",
    "    num_tracklets = len(tracklets)\n",
    "\n",
    "    return tracklets, num_tracklets, num_pids, num_imgs_per_tracklet, num_clothes, pid2clothes, clothes2label\n",
    "\n",
    "def clothes2label_test(query_path, gallery_path):\n",
    "    pid_container = set()\n",
    "    clothes_container = set()\n",
    "    with open(query_path, 'r') as f:\n",
    "        for line in f:\n",
    "            new_line = line.rstrip()\n",
    "            tracklet_path, pid, clothes_label = new_line.split()\n",
    "            clothes = '{}_{}'.format(pid, clothes_label)\n",
    "            pid_container.add(pid)\n",
    "            clothes_container.add(clothes)\n",
    "    with open(gallery_path, 'r') as f:\n",
    "        for line in f:\n",
    "            new_line = line.rstrip()\n",
    "            tracklet_path, pid, clothes_label = new_line.split()\n",
    "            clothes = '{}_{}'.format(pid, clothes_label)\n",
    "            pid_container.add(pid)\n",
    "            clothes_container.add(clothes)\n",
    "    pid_container = sorted(pid_container)\n",
    "    clothes_container = sorted(clothes_container)\n",
    "    pid2label = {pid:label for label, pid in enumerate(pid_container)}\n",
    "    clothes2label = {clothes:label for label, clothes in enumerate(clothes_container)}\n",
    "\n",
    "    return clothes2label"
   ]
  },
  {
   "cell_type": "code",
   "execution_count": 7,
   "metadata": {},
   "outputs": [],
   "source": [
    "query_path = \"/media/dustin/DATA/Research/Video-based ReID/CCVID/query.txt\"\n",
    "gallery_path = \"/media/dustin/DATA/Research/Video-based ReID/CCVID/gallery.txt\"\n",
    "\n",
    "clothes2label = clothes2label_test(query_path, gallery_path)\n",
    "\n",
    "query, num_query_tracklets, num_query_pids, num_query_imgs, num_query_clothes, _, _ = \\\n",
    "    process_data(query_path, relabel=False, clothes2label=clothes2label)\n",
    "\n",
    "gallery, num_gallery_tracklets, num_gallery_pids, num_gallery_imgs, num_gallery_clothes, _, _ = \\\n",
    "    process_data(gallery_path, relabel=False, clothes2label=clothes2label)"
   ]
  },
  {
   "cell_type": "code",
   "execution_count": 16,
   "metadata": {},
   "outputs": [],
   "source": [
    "query_set = []\n",
    "for item in query:\n",
    "#img_paths, pid, camid, clothes_id\n",
    "    query_set.append({\n",
    "        'img_paths': item[0],\n",
    "        'p_id': item[1],\n",
    "        'cam_id': item[2],\n",
    "        'clothes_id': item[3],\n",
    "    })\n",
    "gallery_set = []\n",
    "for item in gallery:\n",
    "#img_paths, pid, camid, clothes_id\n",
    "    gallery_set.append({\n",
    "        'img_paths': item[0],\n",
    "        'p_id': item[1],\n",
    "        'cam_id': item[2],\n",
    "        'clothes_id': item[3],\n",
    "    })"
   ]
  },
  {
   "cell_type": "code",
   "execution_count": 18,
   "metadata": {},
   "outputs": [
    {
     "data": {
      "text/plain": [
       "{'img_paths': ['/media/dustin/DATA/Research/Video-based ReID/CCVID/session1/001_01/00001.jpg',\n",
       "  '/media/dustin/DATA/Research/Video-based ReID/CCVID/session1/001_01/00002.jpg',\n",
       "  '/media/dustin/DATA/Research/Video-based ReID/CCVID/session1/001_01/00003.jpg',\n",
       "  '/media/dustin/DATA/Research/Video-based ReID/CCVID/session1/001_01/00004.jpg',\n",
       "  '/media/dustin/DATA/Research/Video-based ReID/CCVID/session1/001_01/00005.jpg',\n",
       "  '/media/dustin/DATA/Research/Video-based ReID/CCVID/session1/001_01/00006.jpg',\n",
       "  '/media/dustin/DATA/Research/Video-based ReID/CCVID/session1/001_01/00007.jpg',\n",
       "  '/media/dustin/DATA/Research/Video-based ReID/CCVID/session1/001_01/00008.jpg',\n",
       "  '/media/dustin/DATA/Research/Video-based ReID/CCVID/session1/001_01/00009.jpg',\n",
       "  '/media/dustin/DATA/Research/Video-based ReID/CCVID/session1/001_01/00010.jpg',\n",
       "  '/media/dustin/DATA/Research/Video-based ReID/CCVID/session1/001_01/00011.jpg',\n",
       "  '/media/dustin/DATA/Research/Video-based ReID/CCVID/session1/001_01/00012.jpg',\n",
       "  '/media/dustin/DATA/Research/Video-based ReID/CCVID/session1/001_01/00013.jpg',\n",
       "  '/media/dustin/DATA/Research/Video-based ReID/CCVID/session1/001_01/00014.jpg',\n",
       "  '/media/dustin/DATA/Research/Video-based ReID/CCVID/session1/001_01/00015.jpg',\n",
       "  '/media/dustin/DATA/Research/Video-based ReID/CCVID/session1/001_01/00016.jpg',\n",
       "  '/media/dustin/DATA/Research/Video-based ReID/CCVID/session1/001_01/00017.jpg',\n",
       "  '/media/dustin/DATA/Research/Video-based ReID/CCVID/session1/001_01/00018.jpg',\n",
       "  '/media/dustin/DATA/Research/Video-based ReID/CCVID/session1/001_01/00019.jpg',\n",
       "  '/media/dustin/DATA/Research/Video-based ReID/CCVID/session1/001_01/00020.jpg',\n",
       "  '/media/dustin/DATA/Research/Video-based ReID/CCVID/session1/001_01/00021.jpg',\n",
       "  '/media/dustin/DATA/Research/Video-based ReID/CCVID/session1/001_01/00022.jpg',\n",
       "  '/media/dustin/DATA/Research/Video-based ReID/CCVID/session1/001_01/00023.jpg',\n",
       "  '/media/dustin/DATA/Research/Video-based ReID/CCVID/session1/001_01/00024.jpg',\n",
       "  '/media/dustin/DATA/Research/Video-based ReID/CCVID/session1/001_01/00025.jpg',\n",
       "  '/media/dustin/DATA/Research/Video-based ReID/CCVID/session1/001_01/00026.jpg',\n",
       "  '/media/dustin/DATA/Research/Video-based ReID/CCVID/session1/001_01/00027.jpg',\n",
       "  '/media/dustin/DATA/Research/Video-based ReID/CCVID/session1/001_01/00028.jpg',\n",
       "  '/media/dustin/DATA/Research/Video-based ReID/CCVID/session1/001_01/00029.jpg',\n",
       "  '/media/dustin/DATA/Research/Video-based ReID/CCVID/session1/001_01/00030.jpg',\n",
       "  '/media/dustin/DATA/Research/Video-based ReID/CCVID/session1/001_01/00031.jpg',\n",
       "  '/media/dustin/DATA/Research/Video-based ReID/CCVID/session1/001_01/00032.jpg',\n",
       "  '/media/dustin/DATA/Research/Video-based ReID/CCVID/session1/001_01/00033.jpg',\n",
       "  '/media/dustin/DATA/Research/Video-based ReID/CCVID/session1/001_01/00034.jpg',\n",
       "  '/media/dustin/DATA/Research/Video-based ReID/CCVID/session1/001_01/00035.jpg',\n",
       "  '/media/dustin/DATA/Research/Video-based ReID/CCVID/session1/001_01/00036.jpg',\n",
       "  '/media/dustin/DATA/Research/Video-based ReID/CCVID/session1/001_01/00037.jpg',\n",
       "  '/media/dustin/DATA/Research/Video-based ReID/CCVID/session1/001_01/00038.jpg',\n",
       "  '/media/dustin/DATA/Research/Video-based ReID/CCVID/session1/001_01/00039.jpg',\n",
       "  '/media/dustin/DATA/Research/Video-based ReID/CCVID/session1/001_01/00040.jpg',\n",
       "  '/media/dustin/DATA/Research/Video-based ReID/CCVID/session1/001_01/00041.jpg',\n",
       "  '/media/dustin/DATA/Research/Video-based ReID/CCVID/session1/001_01/00042.jpg',\n",
       "  '/media/dustin/DATA/Research/Video-based ReID/CCVID/session1/001_01/00043.jpg',\n",
       "  '/media/dustin/DATA/Research/Video-based ReID/CCVID/session1/001_01/00044.jpg',\n",
       "  '/media/dustin/DATA/Research/Video-based ReID/CCVID/session1/001_01/00045.jpg',\n",
       "  '/media/dustin/DATA/Research/Video-based ReID/CCVID/session1/001_01/00046.jpg',\n",
       "  '/media/dustin/DATA/Research/Video-based ReID/CCVID/session1/001_01/00047.jpg',\n",
       "  '/media/dustin/DATA/Research/Video-based ReID/CCVID/session1/001_01/00048.jpg',\n",
       "  '/media/dustin/DATA/Research/Video-based ReID/CCVID/session1/001_01/00049.jpg',\n",
       "  '/media/dustin/DATA/Research/Video-based ReID/CCVID/session1/001_01/00050.jpg',\n",
       "  '/media/dustin/DATA/Research/Video-based ReID/CCVID/session1/001_01/00051.jpg',\n",
       "  '/media/dustin/DATA/Research/Video-based ReID/CCVID/session1/001_01/00052.jpg',\n",
       "  '/media/dustin/DATA/Research/Video-based ReID/CCVID/session1/001_01/00053.jpg',\n",
       "  '/media/dustin/DATA/Research/Video-based ReID/CCVID/session1/001_01/00054.jpg',\n",
       "  '/media/dustin/DATA/Research/Video-based ReID/CCVID/session1/001_01/00055.jpg',\n",
       "  '/media/dustin/DATA/Research/Video-based ReID/CCVID/session1/001_01/00056.jpg',\n",
       "  '/media/dustin/DATA/Research/Video-based ReID/CCVID/session1/001_01/00057.jpg',\n",
       "  '/media/dustin/DATA/Research/Video-based ReID/CCVID/session1/001_01/00058.jpg',\n",
       "  '/media/dustin/DATA/Research/Video-based ReID/CCVID/session1/001_01/00059.jpg',\n",
       "  '/media/dustin/DATA/Research/Video-based ReID/CCVID/session1/001_01/00060.jpg',\n",
       "  '/media/dustin/DATA/Research/Video-based ReID/CCVID/session1/001_01/00061.jpg',\n",
       "  '/media/dustin/DATA/Research/Video-based ReID/CCVID/session1/001_01/00062.jpg',\n",
       "  '/media/dustin/DATA/Research/Video-based ReID/CCVID/session1/001_01/00063.jpg',\n",
       "  '/media/dustin/DATA/Research/Video-based ReID/CCVID/session1/001_01/00064.jpg',\n",
       "  '/media/dustin/DATA/Research/Video-based ReID/CCVID/session1/001_01/00065.jpg',\n",
       "  '/media/dustin/DATA/Research/Video-based ReID/CCVID/session1/001_01/00066.jpg',\n",
       "  '/media/dustin/DATA/Research/Video-based ReID/CCVID/session1/001_01/00067.jpg',\n",
       "  '/media/dustin/DATA/Research/Video-based ReID/CCVID/session1/001_01/00068.jpg',\n",
       "  '/media/dustin/DATA/Research/Video-based ReID/CCVID/session1/001_01/00069.jpg',\n",
       "  '/media/dustin/DATA/Research/Video-based ReID/CCVID/session1/001_01/00070.jpg',\n",
       "  '/media/dustin/DATA/Research/Video-based ReID/CCVID/session1/001_01/00071.jpg',\n",
       "  '/media/dustin/DATA/Research/Video-based ReID/CCVID/session1/001_01/00072.jpg',\n",
       "  '/media/dustin/DATA/Research/Video-based ReID/CCVID/session1/001_01/00073.jpg',\n",
       "  '/media/dustin/DATA/Research/Video-based ReID/CCVID/session1/001_01/00074.jpg',\n",
       "  '/media/dustin/DATA/Research/Video-based ReID/CCVID/session1/001_01/00075.jpg',\n",
       "  '/media/dustin/DATA/Research/Video-based ReID/CCVID/session1/001_01/00076.jpg',\n",
       "  '/media/dustin/DATA/Research/Video-based ReID/CCVID/session1/001_01/00077.jpg',\n",
       "  '/media/dustin/DATA/Research/Video-based ReID/CCVID/session1/001_01/00078.jpg',\n",
       "  '/media/dustin/DATA/Research/Video-based ReID/CCVID/session1/001_01/00079.jpg',\n",
       "  '/media/dustin/DATA/Research/Video-based ReID/CCVID/session1/001_01/00080.jpg',\n",
       "  '/media/dustin/DATA/Research/Video-based ReID/CCVID/session1/001_01/00081.jpg',\n",
       "  '/media/dustin/DATA/Research/Video-based ReID/CCVID/session1/001_01/00082.jpg',\n",
       "  '/media/dustin/DATA/Research/Video-based ReID/CCVID/session1/001_01/00083.jpg',\n",
       "  '/media/dustin/DATA/Research/Video-based ReID/CCVID/session1/001_01/00084.jpg',\n",
       "  '/media/dustin/DATA/Research/Video-based ReID/CCVID/session1/001_01/00085.jpg',\n",
       "  '/media/dustin/DATA/Research/Video-based ReID/CCVID/session1/001_01/00086.jpg'],\n",
       " 'p_id': 1,\n",
       " 'cam_id': 1,\n",
       " 'clothes_id': 0}"
      ]
     },
     "execution_count": 18,
     "metadata": {},
     "output_type": "execute_result"
    }
   ],
   "source": [
    "query_set[0]"
   ]
  },
  {
   "cell_type": "code",
   "execution_count": 19,
   "metadata": {},
   "outputs": [],
   "source": [
    "gallery_content = {\n",
    "    'data': gallery_set,\n",
    "    'num_clothes': num_gallery_clothes,\n",
    "    'num_pids': num_gallery_pids\n",
    "}\n",
    "query_content = {\n",
    "    'data': query_set,\n",
    "    'num_clothes': num_query_clothes,\n",
    "    'num_pids': num_query_pids\n",
    "}"
   ]
  },
  {
   "cell_type": "code",
   "execution_count": 20,
   "metadata": {},
   "outputs": [],
   "source": [
    "with open('data/ccvid/query.pkl', 'wb') as f:\n",
    "    pickle.dump(query_content, f)\n",
    "with open('data/ccvid/gallery.pkl', 'wb') as f:\n",
    "    pickle.dump(gallery_content, f)"
   ]
  }
 ],
 "metadata": {
  "kernelspec": {
   "display_name": "reid",
   "language": "python",
   "name": "python3"
  },
  "language_info": {
   "codemirror_mode": {
    "name": "ipython",
    "version": 3
   },
   "file_extension": ".py",
   "mimetype": "text/x-python",
   "name": "python",
   "nbconvert_exporter": "python",
   "pygments_lexer": "ipython3",
   "version": "3.8.16"
  },
  "orig_nbformat": 4
 },
 "nbformat": 4,
 "nbformat_minor": 2
}
